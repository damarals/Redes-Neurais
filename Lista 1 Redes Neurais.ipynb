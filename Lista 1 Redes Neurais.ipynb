{
  "nbformat": 4,
  "nbformat_minor": 0,
  "metadata": {
    "colab": {
      "name": "Copy of Copy of Logistic Regression.ipynb",
      "version": "0.3.2",
      "provenance": [],
      "collapsed_sections": []
    },
    "kernelspec": {
      "name": "python3",
      "display_name": "Python 3"
    }
  },
  "cells": [
    {
      "metadata": {
        "id": "z5QBm14MJrtT",
        "colab_type": "text"
      },
      "cell_type": "markdown",
      "source": [
        "# Logistic Regression with and without scikit"
      ]
    },
    {
      "metadata": {
        "id": "gFANRVKwWdZi",
        "colab_type": "text"
      },
      "cell_type": "markdown",
      "source": [
        "# Lista 1 - Redes Neurais\n",
        "## Daniel de Amaral da Silva\n",
        "## Estatística - 385802"
      ]
    },
    {
      "metadata": {
        "id": "U9tBps6I2FWD",
        "colab_type": "text"
      },
      "cell_type": "markdown",
      "source": [
        "## Load Data | EDA"
      ]
    },
    {
      "metadata": {
        "colab_type": "text",
        "id": "hlrdhaV3H2bm"
      },
      "cell_type": "markdown",
      "source": [
        "### Import libraries"
      ]
    },
    {
      "metadata": {
        "colab_type": "code",
        "id": "bb-R2l3RH2bp",
        "colab": {}
      },
      "cell_type": "code",
      "source": [
        "import numpy as np\n",
        "import pandas as pd\n",
        "import matplotlib.pyplot as plt"
      ],
      "execution_count": 0,
      "outputs": []
    },
    {
      "metadata": {
        "id": "2IfyCgB0WwnN",
        "colab_type": "text"
      },
      "cell_type": "markdown",
      "source": [
        "### Load Dataset"
      ]
    },
    {
      "metadata": {
        "id": "J9w9laK7h3fp",
        "colab_type": "code",
        "colab": {}
      },
      "cell_type": "code",
      "source": [
        "df = pd.read_csv('https://archive.ics.uci.edu/ml/machine-learning-databases/breast-cancer/breast-cancer.data', header = None)\n",
        "df.columns = ['class','age', 'menopause', 'tumor-size', 'inv-nodes', 'node-caps', 'deg-malig', 'breast', 'breast-quad', 'irradiat']"
      ],
      "execution_count": 0,
      "outputs": []
    },
    {
      "metadata": {
        "id": "6B04gVyIIhe7",
        "colab_type": "code",
        "outputId": "fef7b216-31d9-4433-85b0-862888e11a3d",
        "colab": {
          "base_uri": "https://localhost:8080/",
          "height": 204
        }
      },
      "cell_type": "code",
      "source": [
        "df.head()"
      ],
      "execution_count": 71,
      "outputs": [
        {
          "output_type": "execute_result",
          "data": {
            "text/html": [
              "<div>\n",
              "<style scoped>\n",
              "    .dataframe tbody tr th:only-of-type {\n",
              "        vertical-align: middle;\n",
              "    }\n",
              "\n",
              "    .dataframe tbody tr th {\n",
              "        vertical-align: top;\n",
              "    }\n",
              "\n",
              "    .dataframe thead th {\n",
              "        text-align: right;\n",
              "    }\n",
              "</style>\n",
              "<table border=\"1\" class=\"dataframe\">\n",
              "  <thead>\n",
              "    <tr style=\"text-align: right;\">\n",
              "      <th></th>\n",
              "      <th>class</th>\n",
              "      <th>age</th>\n",
              "      <th>menopause</th>\n",
              "      <th>tumor-size</th>\n",
              "      <th>inv-nodes</th>\n",
              "      <th>node-caps</th>\n",
              "      <th>deg-malig</th>\n",
              "      <th>breast</th>\n",
              "      <th>breast-quad</th>\n",
              "      <th>irradiat</th>\n",
              "    </tr>\n",
              "  </thead>\n",
              "  <tbody>\n",
              "    <tr>\n",
              "      <th>0</th>\n",
              "      <td>no-recurrence-events</td>\n",
              "      <td>30-39</td>\n",
              "      <td>premeno</td>\n",
              "      <td>30-34</td>\n",
              "      <td>0-2</td>\n",
              "      <td>no</td>\n",
              "      <td>3</td>\n",
              "      <td>left</td>\n",
              "      <td>left_low</td>\n",
              "      <td>no</td>\n",
              "    </tr>\n",
              "    <tr>\n",
              "      <th>1</th>\n",
              "      <td>no-recurrence-events</td>\n",
              "      <td>40-49</td>\n",
              "      <td>premeno</td>\n",
              "      <td>20-24</td>\n",
              "      <td>0-2</td>\n",
              "      <td>no</td>\n",
              "      <td>2</td>\n",
              "      <td>right</td>\n",
              "      <td>right_up</td>\n",
              "      <td>no</td>\n",
              "    </tr>\n",
              "    <tr>\n",
              "      <th>2</th>\n",
              "      <td>no-recurrence-events</td>\n",
              "      <td>40-49</td>\n",
              "      <td>premeno</td>\n",
              "      <td>20-24</td>\n",
              "      <td>0-2</td>\n",
              "      <td>no</td>\n",
              "      <td>2</td>\n",
              "      <td>left</td>\n",
              "      <td>left_low</td>\n",
              "      <td>no</td>\n",
              "    </tr>\n",
              "    <tr>\n",
              "      <th>3</th>\n",
              "      <td>no-recurrence-events</td>\n",
              "      <td>60-69</td>\n",
              "      <td>ge40</td>\n",
              "      <td>15-19</td>\n",
              "      <td>0-2</td>\n",
              "      <td>no</td>\n",
              "      <td>2</td>\n",
              "      <td>right</td>\n",
              "      <td>left_up</td>\n",
              "      <td>no</td>\n",
              "    </tr>\n",
              "    <tr>\n",
              "      <th>4</th>\n",
              "      <td>no-recurrence-events</td>\n",
              "      <td>40-49</td>\n",
              "      <td>premeno</td>\n",
              "      <td>0-4</td>\n",
              "      <td>0-2</td>\n",
              "      <td>no</td>\n",
              "      <td>2</td>\n",
              "      <td>right</td>\n",
              "      <td>right_low</td>\n",
              "      <td>no</td>\n",
              "    </tr>\n",
              "  </tbody>\n",
              "</table>\n",
              "</div>"
            ],
            "text/plain": [
              "                  class    age menopause tumor-size inv-nodes node-caps  \\\n",
              "0  no-recurrence-events  30-39   premeno      30-34       0-2        no   \n",
              "1  no-recurrence-events  40-49   premeno      20-24       0-2        no   \n",
              "2  no-recurrence-events  40-49   premeno      20-24       0-2        no   \n",
              "3  no-recurrence-events  60-69      ge40      15-19       0-2        no   \n",
              "4  no-recurrence-events  40-49   premeno        0-4       0-2        no   \n",
              "\n",
              "   deg-malig breast breast-quad irradiat  \n",
              "0          3   left    left_low       no  \n",
              "1          2  right    right_up       no  \n",
              "2          2   left    left_low       no  \n",
              "3          2  right     left_up       no  \n",
              "4          2  right   right_low       no  "
            ]
          },
          "metadata": {
            "tags": []
          },
          "execution_count": 71
        }
      ]
    },
    {
      "metadata": {
        "id": "faPcJbND3NQN",
        "colab_type": "text"
      },
      "cell_type": "markdown",
      "source": [
        "Cells wrong in breast and breast-quad"
      ]
    },
    {
      "metadata": {
        "id": "E3wZpXIG3KLs",
        "colab_type": "code",
        "outputId": "103ff489-2d55-4758-feaa-39711a5f16a7",
        "colab": {
          "base_uri": "https://localhost:8080/",
          "height": 102
        }
      },
      "cell_type": "code",
      "source": [
        "count = 0\n",
        "for i in range(df.shape[0]):\n",
        "  if ((df.iloc[i, 7] == 'left') and (df.iloc[i, 8] == 'left_up')) or ((df.iloc[i, 7] == 'left') and (df.iloc[i, 8] == 'left_low')):\n",
        "    pass\n",
        "  elif ((df.iloc[i, 7] == 'right') and (df.iloc[i, 8] == 'right_up')) or ((df.iloc[i, 7] == 'right') and (df.iloc[i, 8] == 'right_low')):\n",
        "    pass\n",
        "  else:\n",
        "    count += 1\n",
        "print(f'Há {count} observações em que o lado afetado não corresponde ao quadrante')\n",
        "print(f'Exemplo: \\n{df.iloc[9, [7, 8]]}')"
      ],
      "execution_count": 72,
      "outputs": [
        {
          "output_type": "stream",
          "text": [
            "Há 141 observações em que o lado afetado não corresponde ao quadrante\n",
            "Exemplo: \n",
            "breast           right\n",
            "breast-quad    left_up\n",
            "Name: 9, dtype: object\n"
          ],
          "name": "stdout"
        }
      ]
    },
    {
      "metadata": {
        "id": "MOw-oy1h6s6U",
        "colab_type": "text"
      },
      "cell_type": "markdown",
      "source": [
        "Drop the 'breast-quad' collumn"
      ]
    },
    {
      "metadata": {
        "id": "sRPbUjGB6r63",
        "colab_type": "code",
        "colab": {}
      },
      "cell_type": "code",
      "source": [
        "df.drop(['breast-quad'], axis= 1 ,inplace=True)"
      ],
      "execution_count": 0,
      "outputs": []
    },
    {
      "metadata": {
        "id": "u981VRbR2dqE",
        "colab_type": "text"
      },
      "cell_type": "markdown",
      "source": [
        "### Heatmap"
      ]
    },
    {
      "metadata": {
        "id": "diDpuaLJ20l9",
        "colab_type": "code",
        "outputId": "63c7429e-f85e-4558-96c6-08f7c325db61",
        "colab": {
          "base_uri": "https://localhost:8080/",
          "height": 446
        }
      },
      "cell_type": "code",
      "source": [
        "import seaborn as sns\n",
        "corr = pd.get_dummies(df, drop_first = True).corr()\n",
        "sns.heatmap(corr)\n",
        "sns.plt.show()"
      ],
      "execution_count": 74,
      "outputs": [
        {
          "output_type": "display_data",
          "data": {
            "image/png": "[encoded data removed]",
            "text/plain": [
              "<Figure size 576x396 with 2 Axes>"
            ]
          },
          "metadata": {
            "tags": []
          }
        }
      ]
    },
    {
      "metadata": {
        "id": "TKMgLfUABn7I",
        "colab_type": "text"
      },
      "cell_type": "markdown",
      "source": [
        "### Describe"
      ]
    },
    {
      "metadata": {
        "id": "v8ybU1kgBjfB",
        "colab_type": "code",
        "outputId": "0da1aaab-e506-48e9-b46e-4ca757f008ed",
        "colab": {
          "base_uri": "https://localhost:8080/",
          "height": 297
        }
      },
      "cell_type": "code",
      "source": [
        "df.describe()"
      ],
      "execution_count": 75,
      "outputs": [
        {
          "output_type": "execute_result",
          "data": {
            "text/html": [
              "<div>\n",
              "<style scoped>\n",
              "    .dataframe tbody tr th:only-of-type {\n",
              "        vertical-align: middle;\n",
              "    }\n",
              "\n",
              "    .dataframe tbody tr th {\n",
              "        vertical-align: top;\n",
              "    }\n",
              "\n",
              "    .dataframe thead th {\n",
              "        text-align: right;\n",
              "    }\n",
              "</style>\n",
              "<table border=\"1\" class=\"dataframe\">\n",
              "  <thead>\n",
              "    <tr style=\"text-align: right;\">\n",
              "      <th></th>\n",
              "      <th>deg-malig</th>\n",
              "    </tr>\n",
              "  </thead>\n",
              "  <tbody>\n",
              "    <tr>\n",
              "      <th>count</th>\n",
              "      <td>286.000000</td>\n",
              "    </tr>\n",
              "    <tr>\n",
              "      <th>mean</th>\n",
              "      <td>2.048951</td>\n",
              "    </tr>\n",
              "    <tr>\n",
              "      <th>std</th>\n",
              "      <td>0.738217</td>\n",
              "    </tr>\n",
              "    <tr>\n",
              "      <th>min</th>\n",
              "      <td>1.000000</td>\n",
              "    </tr>\n",
              "    <tr>\n",
              "      <th>25%</th>\n",
              "      <td>2.000000</td>\n",
              "    </tr>\n",
              "    <tr>\n",
              "      <th>50%</th>\n",
              "      <td>2.000000</td>\n",
              "    </tr>\n",
              "    <tr>\n",
              "      <th>75%</th>\n",
              "      <td>3.000000</td>\n",
              "    </tr>\n",
              "    <tr>\n",
              "      <th>max</th>\n",
              "      <td>3.000000</td>\n",
              "    </tr>\n",
              "  </tbody>\n",
              "</table>\n",
              "</div>"
            ],
            "text/plain": [
              "        deg-malig\n",
              "count  286.000000\n",
              "mean     2.048951\n",
              "std      0.738217\n",
              "min      1.000000\n",
              "25%      2.000000\n",
              "50%      2.000000\n",
              "75%      3.000000\n",
              "max      3.000000"
            ]
          },
          "metadata": {
            "tags": []
          },
          "execution_count": 75
        }
      ]
    },
    {
      "metadata": {
        "id": "2D9R1FbzbGi_",
        "colab_type": "text"
      },
      "cell_type": "markdown",
      "source": [
        "### info"
      ]
    },
    {
      "metadata": {
        "id": "OhtkAP_TbFvG",
        "colab_type": "code",
        "outputId": "22073d50-568d-4cbc-a94a-495ea9876733",
        "colab": {
          "base_uri": "https://localhost:8080/",
          "height": 255
        }
      },
      "cell_type": "code",
      "source": [
        "df.info()"
      ],
      "execution_count": 76,
      "outputs": [
        {
          "output_type": "stream",
          "text": [
            "<class 'pandas.core.frame.DataFrame'>\n",
            "RangeIndex: 286 entries, 0 to 285\n",
            "Data columns (total 9 columns):\n",
            "class         286 non-null object\n",
            "age           286 non-null object\n",
            "menopause     286 non-null object\n",
            "tumor-size    286 non-null object\n",
            "inv-nodes     286 non-null object\n",
            "node-caps     286 non-null object\n",
            "deg-malig     286 non-null int64\n",
            "breast        286 non-null object\n",
            "irradiat      286 non-null object\n",
            "dtypes: int64(1), object(8)\n",
            "memory usage: 20.2+ KB\n"
          ],
          "name": "stdout"
        }
      ]
    },
    {
      "metadata": {
        "id": "8KY1LxfO1Tgh",
        "colab_type": "text"
      },
      "cell_type": "markdown",
      "source": [
        "## Pre-processing"
      ]
    },
    {
      "metadata": {
        "id": "Cwf5wNzLW73p",
        "colab_type": "text"
      },
      "cell_type": "markdown",
      "source": [
        "### Pre-processing"
      ]
    },
    {
      "metadata": {
        "id": "zHptvLWpIp7K",
        "colab_type": "code",
        "colab": {}
      },
      "cell_type": "code",
      "source": [
        "df.iloc[:, 0] = df.iloc[:, 0].map({'no-recurrence-events': 0, 'recurrence-events': 1})\n",
        "df.iloc[:, 1] = df.iloc[:, 1].map({'20-29': 0, '30-39': 1, '40-49': 2, '50-59': 3, '60-69': 4, '70-79': 5})\n",
        "df.iloc[:, 2] = df.iloc[:, 2].map({'ge40': 0, 'lt40': 1, 'premeno': 2})\n",
        "df.iloc[:, 3] = df.iloc[:, 3].map({'0-4': 0, '5-9': 1, '10-14': 2, '15-19': 3, '20-24': 4, '25-29': 5, '30-34': 6, '35-39': 7, '40-44': 8, '45-49': 9, '50-54': 10})\n",
        "df.iloc[:, 4] = df.iloc[:, 4].map({'0-2': 0, '3-5': 1, '6-8': 2, '9-11': 3, '12-14': 4, '15-17': 5, '24-26': 6})\n",
        "df.iloc[:, 5] = df.iloc[:, 5].map({'?': np.nan, 'no': 0, 'yes': 1})\n",
        "df.iloc[:, 7] = df.iloc[:, 7].map({'left': 0, 'right': 1})\n",
        "df.iloc[:, 8] = df.iloc[:, 8].map({'no': 0, 'yes': 1})"
      ],
      "execution_count": 0,
      "outputs": []
    },
    {
      "metadata": {
        "id": "cirmZ8N9W-2E",
        "colab_type": "text"
      },
      "cell_type": "markdown",
      "source": [
        "### Imputation of missing values by iterative imputation"
      ]
    },
    {
      "metadata": {
        "id": "ME2PqzO1Is5R",
        "colab_type": "code",
        "colab": {}
      },
      "cell_type": "code",
      "source": [
        "import fancyimpute as fy\n",
        "X = fy.IterativeImputer(missing_values=np.nan)\n",
        "X_imputed = X.fit_transform(df.values)"
      ],
      "execution_count": 0,
      "outputs": []
    },
    {
      "metadata": {
        "id": "jDxO91ZtXJdW",
        "colab_type": "text"
      },
      "cell_type": "markdown",
      "source": [
        "### split X and y matrices"
      ]
    },
    {
      "metadata": {
        "id": "YjSSE5eIIvYx",
        "colab_type": "code",
        "colab": {}
      },
      "cell_type": "code",
      "source": [
        "y_complet = X_imputed[:, 0]\n",
        "y_complet = y_complet.reshape((-1,1))\n",
        "X_complet = X_imputed[:, 1:]\n",
        "X_complet = np.c_[np.ones(X_complet.shape[0]), X_complet]"
      ],
      "execution_count": 0,
      "outputs": []
    },
    {
      "metadata": {
        "id": "p6QjXibgXTYy",
        "colab_type": "text"
      },
      "cell_type": "markdown",
      "source": [
        "little trick"
      ]
    },
    {
      "metadata": {
        "id": "iQQPYJyiUtff",
        "colab_type": "code",
        "colab": {}
      },
      "cell_type": "code",
      "source": [
        "X_complet[:, 5] = np.round(X_complet[:, 5])"
      ],
      "execution_count": 0,
      "outputs": []
    },
    {
      "metadata": {
        "id": "VdIBSs4th-_P",
        "colab_type": "code",
        "outputId": "d1502558-e9ae-45ed-8cd9-66c1c5590906",
        "colab": {
          "base_uri": "https://localhost:8080/",
          "height": 51
        }
      },
      "cell_type": "code",
      "source": [
        "print(y_complet[y_complet == 0].shape)\n",
        "print(y_complet[y_complet == 1].shape)"
      ],
      "execution_count": 81,
      "outputs": [
        {
          "output_type": "stream",
          "text": [
            "(201,)\n",
            "(85,)\n"
          ],
          "name": "stdout"
        }
      ]
    },
    {
      "metadata": {
        "id": "3qQWHkseokiP",
        "colab_type": "code",
        "colab": {}
      },
      "cell_type": "code",
      "source": [
        "from imblearn.over_sampling import RandomOverSampler\n",
        "ros = RandomOverSampler(random_state = 0)\n",
        "X_complet, y_complet = ros.fit_resample(X_complet, y_complet.ravel())"
      ],
      "execution_count": 0,
      "outputs": []
    },
    {
      "metadata": {
        "id": "U6zfDnjthyL2",
        "colab_type": "code",
        "outputId": "1fe507aa-822b-4037-cd89-8f5742dca76d",
        "colab": {
          "base_uri": "https://localhost:8080/",
          "height": 51
        }
      },
      "cell_type": "code",
      "source": [
        "print(y_complet[y_complet == 0].shape)\n",
        "print(y_complet[y_complet == 1].shape)"
      ],
      "execution_count": 83,
      "outputs": [
        {
          "output_type": "stream",
          "text": [
            "(201,)\n",
            "(201,)\n"
          ],
          "name": "stdout"
        }
      ]
    },
    {
      "metadata": {
        "id": "gWDsmhrHKu4I",
        "colab_type": "text"
      },
      "cell_type": "markdown",
      "source": [
        "## WITHOUT SCIKIT"
      ]
    },
    {
      "metadata": {
        "id": "Z1Zvh5SIKGuY",
        "colab_type": "text"
      },
      "cell_type": "markdown",
      "source": [
        "### Import libraries"
      ]
    },
    {
      "metadata": {
        "id": "5wSNWwSPtDsb",
        "colab_type": "code",
        "colab": {}
      },
      "cell_type": "code",
      "source": [
        "import numpy as np\n",
        "import pandas as pd\n",
        "from imblearn.combine import SMOTEENN"
      ],
      "execution_count": 0,
      "outputs": []
    },
    {
      "metadata": {
        "id": "FshPkKwqWl6n",
        "colab_type": "text"
      },
      "cell_type": "markdown",
      "source": [
        "### Create the Core Class of logistic regression\n",
        "### ** I used the Newton-Raphson method, because it is more efficient in this case"
      ]
    },
    {
      "metadata": {
        "id": "p92L5QyYuQyI",
        "colab_type": "code",
        "colab": {}
      },
      "cell_type": "code",
      "source": [
        "class LogRegression:\n",
        "  \n",
        "  import warnings\n",
        "  \n",
        "  def __init__(self):\n",
        "    pass\n",
        "  \n",
        "  def sigmoid(self,x):\n",
        "    '''Funcao Sigmoid'''\n",
        "    \n",
        "    return 1/(1+np.exp(-x))\n",
        "  \n",
        "  def singularity(f):\n",
        "    '''Silencia LinAlg errors e mostra uma Warning.'''\n",
        "    \n",
        "    def silencer(*args, **kwargs):\n",
        "        try:\n",
        "            return f(*args, **kwargs)\n",
        "        except np.linalg.LinAlgError:\n",
        "            warnings.warn('Fim do Algoritmo - Singular Hessiana!')\n",
        "            return args[0]\n",
        "    return silencer\n",
        "  \n",
        "  @singularity\n",
        "  def newton_iter(self,curr, X):\n",
        "    '''Uma iteracao do metodo de newton-raphson'''\n",
        "    \n",
        "    # create matrix's necessary\n",
        "    p = np.array(self.sigmoid(X.dot(curr[:,0])), ndmin=2).T # p matrix 1/(1+e^-XB)\n",
        "    W = np.diag((p*(1-p))[:,0]) # matriz de coef. para a Hessiana\n",
        "    hessian = X.T.dot(W).dot(X) # matriz de seg. derivadas\n",
        "    grad = X.T.dot(self.y-p) # vetor de primeiras derivadas\n",
        "\n",
        "    # Core of function\n",
        "    step, *_ = np.linalg.lstsq(hessian, grad,rcond=None) # calcula a solução Hessian * x = Gradient, que me dá o step\n",
        "\n",
        "    # Assign results to beta\n",
        "    beta = curr + step\n",
        "    \n",
        "    return beta\n",
        "  \n",
        "  def convergence(self, beta_old, beta_new, tol, iters):\n",
        "    '''Checa se os coeficientes convergiram'''\n",
        "    \n",
        "    #calculate the change in the coefficients\n",
        "    coef_change = np.abs(beta_old - beta_new)\n",
        "    \n",
        "    #if change hasn't reached the threshold and we have more iterations to go, keep training\n",
        "    return not (np.any(coef_change>tol) & (iters < self.max_iter))\n",
        "  \n",
        "  def fit(self, X, y):\n",
        "    '''Treino do modelo'''\n",
        "    \n",
        "    self.X = X\n",
        "    self.y = y\n",
        "    # Coef... 2 copies xD\n",
        "    beta_old, beta = np.ones((X.shape[1],1)), np.zeros((X.shape[1],1))\n",
        "    # num iterations\n",
        "    iter_count = 0\n",
        "    # state convergence initial\n",
        "    coefs_converged = False\n",
        "    # tolerance conv\n",
        "    tol = 1e-12\n",
        "    # max iterations\n",
        "    self.max_iter = 300\n",
        "    \n",
        "    while not coefs_converged: # enquanto n tiver convergido\n",
        "      \n",
        "      #set the old coefficients to our current\n",
        "      beta_old = beta\n",
        "      #perform a single step of newton's optimization on our data, set our updated beta values\n",
        "      beta = self.newton_iter(beta, X)\n",
        "      #increment the number of iterations\n",
        "      iter_count += 1\n",
        "\n",
        "      #check for convergence between our old and new beta values\n",
        "      coefs_converged = self.convergence(beta_old, beta, tol, iter_count)\n",
        "    \n",
        "    self.beta = beta\n",
        "    print(f'Train finished, num. iters: {iter_count}')\n",
        "   \n",
        "  def predict(self, U):\n",
        "    '''Predicao de um conjunto U'''\n",
        "    \n",
        "    def probs(a):\n",
        "      \n",
        "      return np.exp(np.dot(a, self.beta))/(1 + np.exp(np.dot(a,self.beta)))\n",
        "    \n",
        "    predictions = np.apply_along_axis(probs, 1, U)\n",
        "    \n",
        "    result = np.where(predictions > 0.5, 1, 0)\n",
        "    \n",
        "    return result"
      ],
      "execution_count": 0,
      "outputs": []
    },
    {
      "metadata": {
        "id": "4yXFbSg6Xa_g",
        "colab_type": "text"
      },
      "cell_type": "markdown",
      "source": [
        "### split train and test"
      ]
    },
    {
      "metadata": {
        "id": "ipyC1ZJwLUWs",
        "colab_type": "code",
        "colab": {}
      },
      "cell_type": "code",
      "source": [
        "def train_test_split(X, y, test_size = 0.25):\n",
        "  \n",
        "  shu_indices = np.arange(X.shape[0])\n",
        "  np.random.shuffle(shu_indices)\n",
        "  limit = int(test_size*(1-X.shape[0]))\n",
        "  return X[shu_indices[:limit],:], X[shu_indices[limit:],:], y[shu_indices[:limit]], y[shu_indices[limit:]]"
      ],
      "execution_count": 0,
      "outputs": []
    },
    {
      "metadata": {
        "id": "kLS3U6PsbzmI",
        "colab_type": "code",
        "colab": {}
      },
      "cell_type": "code",
      "source": [
        "X_train, X_test, y_train, y_test = train_test_split(X_complet, y_complet, test_size = 0.2)"
      ],
      "execution_count": 0,
      "outputs": []
    },
    {
      "metadata": {
        "id": "isDtPtoyCQgD",
        "colab_type": "text"
      },
      "cell_type": "markdown",
      "source": [
        "### Resampling"
      ]
    },
    {
      "metadata": {
        "id": "0W3DMtTFCX7p",
        "colab_type": "code",
        "colab": {}
      },
      "cell_type": "code",
      "source": [
        "#smote_enn = SMOTEENN()\n",
        "#X_train, y_train = smote_enn.fit_resample(X_train, y_train.ravel())"
      ],
      "execution_count": 0,
      "outputs": []
    },
    {
      "metadata": {
        "id": "qi9TD24cXdTY",
        "colab_type": "text"
      },
      "cell_type": "markdown",
      "source": [
        "### Run model"
      ]
    },
    {
      "metadata": {
        "id": "emxPKQKkJ4if",
        "colab_type": "code",
        "outputId": "88f4c35d-6bfa-47f2-ffd3-8f267102aa60",
        "colab": {
          "base_uri": "https://localhost:8080/",
          "height": 34
        }
      },
      "cell_type": "code",
      "source": [
        "classifier = LogRegression()\n",
        "classifier.fit(X_train, y_train.reshape((-1,1)))"
      ],
      "execution_count": 89,
      "outputs": [
        {
          "output_type": "stream",
          "text": [
            "Train finished, num. iters: 6\n"
          ],
          "name": "stdout"
        }
      ]
    },
    {
      "metadata": {
        "id": "JBxp-6scXfxd",
        "colab_type": "text"
      },
      "cell_type": "markdown",
      "source": [
        "### Predict"
      ]
    },
    {
      "metadata": {
        "id": "78T9pl9_Mk_S",
        "colab_type": "code",
        "colab": {}
      },
      "cell_type": "code",
      "source": [
        "y_pred = classifier.predict(X_test)"
      ],
      "execution_count": 0,
      "outputs": []
    },
    {
      "metadata": {
        "id": "76eRdBuZXhco",
        "colab_type": "text"
      },
      "cell_type": "markdown",
      "source": [
        "### Evaluate model"
      ]
    },
    {
      "metadata": {
        "id": "yfNEsMryFrBZ",
        "colab_type": "code",
        "outputId": "cf3a7a57-ec54-4a92-9889-6ebb308a919c",
        "colab": {
          "base_uri": "https://localhost:8080/",
          "height": 142
        }
      },
      "cell_type": "code",
      "source": [
        "pd.crosstab(y_test.ravel(), y_pred.ravel(), rownames=['True'], colnames=['Pred'])"
      ],
      "execution_count": 91,
      "outputs": [
        {
          "output_type": "execute_result",
          "data": {
            "text/html": [
              "<div>\n",
              "<style scoped>\n",
              "    .dataframe tbody tr th:only-of-type {\n",
              "        vertical-align: middle;\n",
              "    }\n",
              "\n",
              "    .dataframe tbody tr th {\n",
              "        vertical-align: top;\n",
              "    }\n",
              "\n",
              "    .dataframe thead th {\n",
              "        text-align: right;\n",
              "    }\n",
              "</style>\n",
              "<table border=\"1\" class=\"dataframe\">\n",
              "  <thead>\n",
              "    <tr style=\"text-align: right;\">\n",
              "      <th>Pred</th>\n",
              "      <th>0</th>\n",
              "      <th>1</th>\n",
              "    </tr>\n",
              "    <tr>\n",
              "      <th>True</th>\n",
              "      <th></th>\n",
              "      <th></th>\n",
              "    </tr>\n",
              "  </thead>\n",
              "  <tbody>\n",
              "    <tr>\n",
              "      <th>0.0</th>\n",
              "      <td>31</td>\n",
              "      <td>12</td>\n",
              "    </tr>\n",
              "    <tr>\n",
              "      <th>1.0</th>\n",
              "      <td>9</td>\n",
              "      <td>28</td>\n",
              "    </tr>\n",
              "  </tbody>\n",
              "</table>\n",
              "</div>"
            ],
            "text/plain": [
              "Pred   0   1\n",
              "True        \n",
              "0.0   31  12\n",
              "1.0    9  28"
            ]
          },
          "metadata": {
            "tags": []
          },
          "execution_count": 91
        }
      ]
    },
    {
      "metadata": {
        "id": "1AYpro0GByh7",
        "colab_type": "code",
        "colab": {}
      },
      "cell_type": "code",
      "source": [
        "def aas_validation(X, y, n_jobs = 10):\n",
        "  \n",
        "  from sklearn.metrics import classification_report, accuracy_score\n",
        "  \n",
        "  accuracy = []\n",
        "  for i in range(n_jobs):\n",
        "    print(f'Sample {i+1}:')\n",
        "    X_train, X_test, y_train, y_test = train_test_split(X, y, test_size = 0.2)\n",
        "    classifier = LogRegression()\n",
        "   \n",
        "    classifier.fit(X_train, y_train.reshape((-1,1)))\n",
        "    y_pred = classifier.predict(X_test)\n",
        "    score = accuracy_score(y_test, y_pred)\n",
        "    print(f'Score: {score}')\n",
        "    print(classification_report(y_test, y_pred))\n",
        "    print('-------------------------------------------------------')\n",
        "    accuracy.append(score)\n",
        "    \n",
        "  print(f'Mean Accuracy: {np.round(np.mean(accuracy),3)}')\n",
        "  print(f'Standard Deviation: {np.round(np.std(accuracy), 3)}')"
      ],
      "execution_count": 0,
      "outputs": []
    },
    {
      "metadata": {
        "id": "h6Pkd9uyCz-o",
        "colab_type": "code",
        "outputId": "faf8be33-4137-4aa4-db83-c7cf5cade409",
        "colab": {
          "base_uri": "https://localhost:8080/",
          "height": 2261
        }
      },
      "cell_type": "code",
      "source": [
        "aas_validation(X = X_complet, y = y_complet)"
      ],
      "execution_count": 93,
      "outputs": [
        {
          "output_type": "stream",
          "text": [
            "Sample 1:\n",
            "Train finished, num. iters: 6\n",
            "Score: 0.6625\n",
            "              precision    recall  f1-score   support\n",
            "\n",
            "         0.0       0.70      0.62      0.66        42\n",
            "         1.0       0.63      0.71      0.67        38\n",
            "\n",
            "   micro avg       0.66      0.66      0.66        80\n",
            "   macro avg       0.67      0.66      0.66        80\n",
            "weighted avg       0.67      0.66      0.66        80\n",
            "\n",
            "-------------------------------------------------------\n",
            "Sample 2:\n",
            "Train finished, num. iters: 6\n",
            "Score: 0.5875\n",
            "              precision    recall  f1-score   support\n",
            "\n",
            "         0.0       0.62      0.51      0.56        41\n",
            "         1.0       0.57      0.67      0.61        39\n",
            "\n",
            "   micro avg       0.59      0.59      0.59        80\n",
            "   macro avg       0.59      0.59      0.59        80\n",
            "weighted avg       0.59      0.59      0.59        80\n",
            "\n",
            "-------------------------------------------------------\n",
            "Sample 3:\n",
            "Train finished, num. iters: 6\n",
            "Score: 0.6\n",
            "              precision    recall  f1-score   support\n",
            "\n",
            "         0.0       0.66      0.57      0.61        44\n",
            "         1.0       0.55      0.64      0.59        36\n",
            "\n",
            "   micro avg       0.60      0.60      0.60        80\n",
            "   macro avg       0.60      0.60      0.60        80\n",
            "weighted avg       0.61      0.60      0.60        80\n",
            "\n",
            "-------------------------------------------------------\n",
            "Sample 4:\n",
            "Train finished, num. iters: 6\n",
            "Score: 0.5875\n",
            "              precision    recall  f1-score   support\n",
            "\n",
            "         0.0       0.55      0.68      0.61        38\n",
            "         1.0       0.64      0.50      0.56        42\n",
            "\n",
            "   micro avg       0.59      0.59      0.59        80\n",
            "   macro avg       0.59      0.59      0.59        80\n",
            "weighted avg       0.60      0.59      0.58        80\n",
            "\n",
            "-------------------------------------------------------\n",
            "Sample 5:\n",
            "Train finished, num. iters: 6\n",
            "Score: 0.5625\n",
            "              precision    recall  f1-score   support\n",
            "\n",
            "         0.0       0.60      0.56      0.58        43\n",
            "         1.0       0.53      0.57      0.55        37\n",
            "\n",
            "   micro avg       0.56      0.56      0.56        80\n",
            "   macro avg       0.56      0.56      0.56        80\n",
            "weighted avg       0.57      0.56      0.56        80\n",
            "\n",
            "-------------------------------------------------------\n",
            "Sample 6:\n",
            "Train finished, num. iters: 6\n",
            "Score: 0.675\n",
            "              precision    recall  f1-score   support\n",
            "\n",
            "         0.0       0.65      0.72      0.68        39\n",
            "         1.0       0.70      0.63      0.67        41\n",
            "\n",
            "   micro avg       0.68      0.68      0.68        80\n",
            "   macro avg       0.68      0.68      0.67        80\n",
            "weighted avg       0.68      0.68      0.67        80\n",
            "\n",
            "-------------------------------------------------------\n",
            "Sample 7:\n",
            "Train finished, num. iters: 6\n",
            "Score: 0.625\n",
            "              precision    recall  f1-score   support\n",
            "\n",
            "         0.0       0.73      0.53      0.62        45\n",
            "         1.0       0.55      0.74      0.63        35\n",
            "\n",
            "   micro avg       0.62      0.62      0.62        80\n",
            "   macro avg       0.64      0.64      0.62        80\n",
            "weighted avg       0.65      0.62      0.62        80\n",
            "\n",
            "-------------------------------------------------------\n",
            "Sample 8:\n",
            "Train finished, num. iters: 6\n",
            "Score: 0.575\n",
            "              precision    recall  f1-score   support\n",
            "\n",
            "         0.0       0.51      0.66      0.57        35\n",
            "         1.0       0.66      0.51      0.57        45\n",
            "\n",
            "   micro avg       0.57      0.57      0.57        80\n",
            "   macro avg       0.58      0.58      0.57        80\n",
            "weighted avg       0.59      0.57      0.57        80\n",
            "\n",
            "-------------------------------------------------------\n",
            "Sample 9:\n",
            "Train finished, num. iters: 6\n",
            "Score: 0.575\n",
            "              precision    recall  f1-score   support\n",
            "\n",
            "         0.0       0.50      0.47      0.48        34\n",
            "         1.0       0.62      0.65      0.64        46\n",
            "\n",
            "   micro avg       0.57      0.57      0.57        80\n",
            "   macro avg       0.56      0.56      0.56        80\n",
            "weighted avg       0.57      0.57      0.57        80\n",
            "\n",
            "-------------------------------------------------------\n",
            "Sample 10:\n",
            "Train finished, num. iters: 6\n",
            "Score: 0.575\n",
            "              precision    recall  f1-score   support\n",
            "\n",
            "         0.0       0.64      0.56      0.60        45\n",
            "         1.0       0.51      0.60      0.55        35\n",
            "\n",
            "   micro avg       0.57      0.57      0.57        80\n",
            "   macro avg       0.58      0.58      0.57        80\n",
            "weighted avg       0.58      0.57      0.58        80\n",
            "\n",
            "-------------------------------------------------------\n",
            "Mean Accuracy: 0.602\n",
            "Standard Deviation: 0.037\n"
          ],
          "name": "stdout"
        }
      ]
    },
    {
      "metadata": {
        "id": "DR20dzwLJf22",
        "colab_type": "text"
      },
      "cell_type": "markdown",
      "source": [
        "## WITH SCIKIT"
      ]
    },
    {
      "metadata": {
        "id": "a31dcU8gPFxA",
        "colab_type": "text"
      },
      "cell_type": "markdown",
      "source": [
        "### Importing libraries"
      ]
    },
    {
      "metadata": {
        "id": "IyqnPwhOJnd5",
        "colab_type": "code",
        "colab": {}
      },
      "cell_type": "code",
      "source": [
        "from sklearn.linear_model import LogisticRegression\n",
        "from sklearn.model_selection import train_test_split, StratifiedKFold\n",
        "from imblearn.combine import SMOTEENN\n",
        "from sklearn.metrics import roc_curve, auc, accuracy_score, classification_report, confusion_matrix"
      ],
      "execution_count": 0,
      "outputs": []
    },
    {
      "metadata": {
        "id": "-Sy9J8TuPUz3",
        "colab_type": "text"
      },
      "cell_type": "markdown",
      "source": [
        "### Split train and test"
      ]
    },
    {
      "metadata": {
        "id": "NnVHM378Lz63",
        "colab_type": "code",
        "colab": {}
      },
      "cell_type": "code",
      "source": [
        "X_train, X_test, y_train, y_test = train_test_split(X_complet[:, 1:], y_complet, test_size = 0.2, random_state = 0)"
      ],
      "execution_count": 0,
      "outputs": []
    },
    {
      "metadata": {
        "id": "jvJ1c5MMGTzh",
        "colab_type": "text"
      },
      "cell_type": "markdown",
      "source": [
        "### Resampling"
      ]
    },
    {
      "metadata": {
        "id": "Tqv8hzD1xJnX",
        "colab_type": "code",
        "colab": {}
      },
      "cell_type": "code",
      "source": [
        "#smote_enn = SMOTEENN()\n",
        "#X_train, y_train = smote_enn.fit_resample(X_train, y_train.ravel())"
      ],
      "execution_count": 0,
      "outputs": []
    },
    {
      "metadata": {
        "id": "0DGhRH5xPf6K",
        "colab_type": "text"
      },
      "cell_type": "markdown",
      "source": [
        "### Fit Logistic model"
      ]
    },
    {
      "metadata": {
        "id": "ODAyPW4nMEX9",
        "colab_type": "code",
        "outputId": "8136c47a-ca84-400a-f53e-ed75bbb435ac",
        "colab": {
          "base_uri": "https://localhost:8080/",
          "height": 85
        }
      },
      "cell_type": "code",
      "source": [
        "classifier = LogisticRegression(solver = 'newton-cg')\n",
        "classifier.fit(X_train, y_train)"
      ],
      "execution_count": 97,
      "outputs": [
        {
          "output_type": "execute_result",
          "data": {
            "text/plain": [
              "LogisticRegression(C=1.0, class_weight=None, dual=False, fit_intercept=True,\n",
              "          intercept_scaling=1, max_iter=100, multi_class='warn',\n",
              "          n_jobs=None, penalty='l2', random_state=None, solver='newton-cg',\n",
              "          tol=0.0001, verbose=0, warm_start=False)"
            ]
          },
          "metadata": {
            "tags": []
          },
          "execution_count": 97
        }
      ]
    },
    {
      "metadata": {
        "id": "T74WfNWuPmuQ",
        "colab_type": "text"
      },
      "cell_type": "markdown",
      "source": [
        "### Predict"
      ]
    },
    {
      "metadata": {
        "id": "WQBYgkmdNKW1",
        "colab_type": "code",
        "colab": {}
      },
      "cell_type": "code",
      "source": [
        "y_pred = classifier.predict(X_test)"
      ],
      "execution_count": 0,
      "outputs": []
    },
    {
      "metadata": {
        "id": "DvDhDF9MPpxg",
        "colab_type": "text"
      },
      "cell_type": "markdown",
      "source": [
        "### Evaluate model"
      ]
    },
    {
      "metadata": {
        "id": "JxxSQ3AbMeDO",
        "colab_type": "code",
        "outputId": "4d305ec8-8eeb-494b-bbe7-457f15a54be2",
        "colab": {
          "base_uri": "https://localhost:8080/",
          "height": 51
        }
      },
      "cell_type": "code",
      "source": [
        "cm = confusion_matrix(y_test, y_pred)\n",
        "cm"
      ],
      "execution_count": 99,
      "outputs": [
        {
          "output_type": "execute_result",
          "data": {
            "text/plain": [
              "array([[37, 12],\n",
              "       [12, 20]])"
            ]
          },
          "metadata": {
            "tags": []
          },
          "execution_count": 99
        }
      ]
    },
    {
      "metadata": {
        "id": "xd2hFR_5Nd77",
        "colab_type": "code",
        "outputId": "fd5d735b-34ea-48de-e0a0-a1b44e750137",
        "colab": {
          "base_uri": "https://localhost:8080/",
          "height": 34
        }
      },
      "cell_type": "code",
      "source": [
        "accuracy_score(y_test, y_pred)"
      ],
      "execution_count": 100,
      "outputs": [
        {
          "output_type": "execute_result",
          "data": {
            "text/plain": [
              "0.7037037037037037"
            ]
          },
          "metadata": {
            "tags": []
          },
          "execution_count": 100
        }
      ]
    },
    {
      "metadata": {
        "id": "eP3-NkN_fywc",
        "colab_type": "code",
        "outputId": "99da63ae-e659-4ad6-9ccf-374331e36e3e",
        "colab": {
          "base_uri": "https://localhost:8080/",
          "height": 170
        }
      },
      "cell_type": "code",
      "source": [
        "print(classification_report(y_test, y_pred))"
      ],
      "execution_count": 101,
      "outputs": [
        {
          "output_type": "stream",
          "text": [
            "              precision    recall  f1-score   support\n",
            "\n",
            "         0.0       0.76      0.76      0.76        49\n",
            "         1.0       0.62      0.62      0.62        32\n",
            "\n",
            "   micro avg       0.70      0.70      0.70        81\n",
            "   macro avg       0.69      0.69      0.69        81\n",
            "weighted avg       0.70      0.70      0.70        81\n",
            "\n"
          ],
          "name": "stdout"
        }
      ]
    },
    {
      "metadata": {
        "id": "cqfHCKbYXzBB",
        "colab_type": "code",
        "outputId": "8169f637-70b2-4fc0-b04f-fea48e2a8c82",
        "colab": {
          "base_uri": "https://localhost:8080/",
          "height": 376
        }
      },
      "cell_type": "code",
      "source": [
        "cv = StratifiedKFold(n_splits = 5)\n",
        "\n",
        "tprs = []\n",
        "aucs = []\n",
        "mean_fpr = np.linspace(0, 1, 100)\n",
        "\n",
        "X = X_complet\n",
        "y = y_complet\n",
        "\n",
        "i = 0\n",
        "for train, test in cv.split(X, y):\n",
        "    probas_ = classifier.fit(X[train], y[train]).predict_proba(X[test])\n",
        "    # Compute ROC curve and area the curve\n",
        "    fpr, tpr, thresholds = roc_curve(y[test], probas_[:, 1])\n",
        "    tprs.append(np.interp(mean_fpr, fpr, tpr))\n",
        "    tprs[-1][0] = 0.0\n",
        "    roc_auc = auc(fpr, tpr)\n",
        "    aucs.append(roc_auc)\n",
        "    plt.plot(fpr, tpr, lw=1, alpha=0.3,\n",
        "             label='ROC fold %d (AUC = %0.2f)' % (i, roc_auc))\n",
        "\n",
        "    i += 1\n",
        "plt.plot([0, 1], [0, 1], linestyle='--', lw=2, color='r',\n",
        "         label='Chance', alpha=.8)\n",
        "\n",
        "mean_tpr = np.mean(tprs, axis=0)\n",
        "mean_tpr[-1] = 1.0\n",
        "mean_auc = auc(mean_fpr, mean_tpr)\n",
        "std_auc = np.std(aucs)\n",
        "plt.plot(mean_fpr, mean_tpr, color='b',\n",
        "         label=r'Mean ROC (AUC = %0.2f $\\pm$ %0.2f)' % (mean_auc, std_auc),\n",
        "         lw=2, alpha=.8)\n",
        "\n",
        "std_tpr = np.std(tprs, axis=0)\n",
        "tprs_upper = np.minimum(mean_tpr + std_tpr, 1)\n",
        "tprs_lower = np.maximum(mean_tpr - std_tpr, 0)\n",
        "plt.fill_between(mean_fpr, tprs_lower, tprs_upper, color='grey', alpha=.2,\n",
        "                 label=r'$\\pm$ 1 std. dev.')\n",
        "\n",
        "plt.xlim([-0.05, 1.05])\n",
        "plt.ylim([-0.05, 1.05])\n",
        "plt.xlabel('False Positive Rate')\n",
        "plt.ylabel('True Positive Rate')\n",
        "plt.title('Receiver operating characteristic example')\n",
        "plt.legend(loc=\"lower right\")\n",
        "plt.show()"
      ],
      "execution_count": 102,
      "outputs": [
        {
          "output_type": "display_data",
          "data": {
            "image/png": "[encoded data removed]",
            "text/plain": [
              "<Figure size 576x396 with 1 Axes>"
            ]
          },
          "metadata": {
            "tags": []
          }
        }
      ]
    }
  ]
}